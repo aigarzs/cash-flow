{
 "cells": [
  {
   "cell_type": "code",
   "execution_count": 88,
   "id": "b068d229-61f5-4296-b280-e06eef023804",
   "metadata": {},
   "outputs": [],
   "source": [
    "from sqlalchemy import create_engine, text\n",
    "import pandas as pd\n",
    "from datetime import datetime\n",
    "\n",
    "engine = create_engine(\"sqlite:///../data/database.db\", echo=False)\n"
   ]
  },
  {
   "cell_type": "code",
   "execution_count": 89,
   "id": "0d9aeaac-8dde-4113-a973-611a4761d1f9",
   "metadata": {},
   "outputs": [],
   "source": [
    "# Load source and target tables into DataFrames\n",
    "df_source = pd.read_sql(\"SELECT * FROM Jumis_Account\", engine)\n",
    "df_target = pd.read_sql(\"SELECT * FROM B02_Accounts\", engine)\n",
    "\n"
   ]
  },
  {
   "cell_type": "code",
   "execution_count": 90,
   "id": "ed0c1020-57e8-4a3a-a1b2-a1fdbbb37ed5",
   "metadata": {},
   "outputs": [
    {
     "data": {
      "text/html": [
       "<div>\n",
       "<style scoped>\n",
       "    .dataframe tbody tr th:only-of-type {\n",
       "        vertical-align: middle;\n",
       "    }\n",
       "\n",
       "    .dataframe tbody tr th {\n",
       "        vertical-align: top;\n",
       "    }\n",
       "\n",
       "    .dataframe thead th {\n",
       "        text-align: right;\n",
       "    }\n",
       "</style>\n",
       "<table border=\"1\" class=\"dataframe\">\n",
       "  <thead>\n",
       "    <tr style=\"text-align: right;\">\n",
       "      <th></th>\n",
       "      <th>AccountID</th>\n",
       "      <th>AccountCode</th>\n",
       "      <th>AccountName</th>\n",
       "      <th>CreateDate</th>\n",
       "      <th>UpdateDate</th>\n",
       "      <th>rn</th>\n",
       "    </tr>\n",
       "  </thead>\n",
       "  <tbody>\n",
       "    <tr>\n",
       "      <th>0</th>\n",
       "      <td>305</td>\n",
       "      <td>11</td>\n",
       "      <td>Nemateriālie ieguldījumi</td>\n",
       "      <td>2021-05-11 12:52:25.493000</td>\n",
       "      <td>2021-05-11 12:52:25.443000</td>\n",
       "      <td>1</td>\n",
       "    </tr>\n",
       "    <tr>\n",
       "      <th>1</th>\n",
       "      <td>306</td>\n",
       "      <td>12</td>\n",
       "      <td>Pamatlīdzekļi</td>\n",
       "      <td>2021-05-11 12:52:25.493000</td>\n",
       "      <td>2021-05-11 12:52:25.443000</td>\n",
       "      <td>2</td>\n",
       "    </tr>\n",
       "    <tr>\n",
       "      <th>2</th>\n",
       "      <td>307</td>\n",
       "      <td>13</td>\n",
       "      <td>Ilgtermiņa finanšu ieguldījumi</td>\n",
       "      <td>2021-05-11 12:52:25.493000</td>\n",
       "      <td>2021-05-11 12:52:25.443000</td>\n",
       "      <td>3</td>\n",
       "    </tr>\n",
       "    <tr>\n",
       "      <th>3</th>\n",
       "      <td>308</td>\n",
       "      <td>21</td>\n",
       "      <td>Krājumi</td>\n",
       "      <td>2021-05-11 12:52:25.493000</td>\n",
       "      <td>2021-05-11 12:52:25.443000</td>\n",
       "      <td>4</td>\n",
       "    </tr>\n",
       "    <tr>\n",
       "      <th>4</th>\n",
       "      <td>309</td>\n",
       "      <td>22</td>\n",
       "      <td>Produktīvie un darba dzīvnieki</td>\n",
       "      <td>2021-05-11 12:52:25.493000</td>\n",
       "      <td>2021-05-11 12:52:25.443000</td>\n",
       "      <td>5</td>\n",
       "    </tr>\n",
       "  </tbody>\n",
       "</table>\n",
       "</div>"
      ],
      "text/plain": [
       "   AccountID AccountCode                     AccountName  \\\n",
       "0        305          11        Nemateriālie ieguldījumi   \n",
       "1        306          12                   Pamatlīdzekļi   \n",
       "2        307          13  Ilgtermiņa finanšu ieguldījumi   \n",
       "3        308          21                         Krājumi   \n",
       "4        309          22  Produktīvie un darba dzīvnieki   \n",
       "\n",
       "                   CreateDate                  UpdateDate  rn  \n",
       "0  2021-05-11 12:52:25.493000  2021-05-11 12:52:25.443000   1  \n",
       "1  2021-05-11 12:52:25.493000  2021-05-11 12:52:25.443000   2  \n",
       "2  2021-05-11 12:52:25.493000  2021-05-11 12:52:25.443000   3  \n",
       "3  2021-05-11 12:52:25.493000  2021-05-11 12:52:25.443000   4  \n",
       "4  2021-05-11 12:52:25.493000  2021-05-11 12:52:25.443000   5  "
      ]
     },
     "execution_count": 90,
     "metadata": {},
     "output_type": "execute_result"
    }
   ],
   "source": [
    "df_source.head()"
   ]
  },
  {
   "cell_type": "code",
   "execution_count": 91,
   "id": "bf428d7c-7cd7-4048-b016-8a6b9d6fb1bc",
   "metadata": {},
   "outputs": [
    {
     "data": {
      "text/html": [
       "<div>\n",
       "<style scoped>\n",
       "    .dataframe tbody tr th:only-of-type {\n",
       "        vertical-align: middle;\n",
       "    }\n",
       "\n",
       "    .dataframe tbody tr th {\n",
       "        vertical-align: top;\n",
       "    }\n",
       "\n",
       "    .dataframe thead th {\n",
       "        text-align: right;\n",
       "    }\n",
       "</style>\n",
       "<table border=\"1\" class=\"dataframe\">\n",
       "  <thead>\n",
       "    <tr style=\"text-align: right;\">\n",
       "      <th></th>\n",
       "      <th>code</th>\n",
       "      <th>name</th>\n",
       "      <th>type_id</th>\n",
       "    </tr>\n",
       "  </thead>\n",
       "  <tbody>\n",
       "  </tbody>\n",
       "</table>\n",
       "</div>"
      ],
      "text/plain": [
       "Empty DataFrame\n",
       "Columns: [code, name, type_id]\n",
       "Index: []"
      ]
     },
     "execution_count": 91,
     "metadata": {},
     "output_type": "execute_result"
    }
   ],
   "source": [
    "df_target.head()"
   ]
  },
  {
   "cell_type": "code",
   "execution_count": 92,
   "id": "865db0b0-05c2-4b17-833a-d9318eb03797",
   "metadata": {},
   "outputs": [],
   "source": [
    "# Optional: Convert date strings to datetime if necessary\n",
    "df_source['CreateDate'] = pd.to_datetime(df_source['CreateDate'])\n",
    "df_source['UpdateDate'] = pd.to_datetime(df_source['UpdateDate'])"
   ]
  },
  {
   "cell_type": "code",
   "execution_count": 93,
   "id": "310b93a7-b979-401d-9913-6a0d3469b605",
   "metadata": {},
   "outputs": [],
   "source": [
    "# Merge on Code to compare existing records\n",
    "df_merged = df_source.merge(df_target, how='outer', left_on='AccountCode', right_on='code', indicator=True, suffixes=('_src', '_tgt'))\n"
   ]
  },
  {
   "cell_type": "code",
   "execution_count": 94,
   "id": "b2f6c327-cd20-43d0-ae5f-345bad35f38b",
   "metadata": {},
   "outputs": [
    {
     "data": {
      "text/html": [
       "<div>\n",
       "<style scoped>\n",
       "    .dataframe tbody tr th:only-of-type {\n",
       "        vertical-align: middle;\n",
       "    }\n",
       "\n",
       "    .dataframe tbody tr th {\n",
       "        vertical-align: top;\n",
       "    }\n",
       "\n",
       "    .dataframe thead th {\n",
       "        text-align: right;\n",
       "    }\n",
       "</style>\n",
       "<table border=\"1\" class=\"dataframe\">\n",
       "  <thead>\n",
       "    <tr style=\"text-align: right;\">\n",
       "      <th></th>\n",
       "      <th>AccountID</th>\n",
       "      <th>AccountCode</th>\n",
       "      <th>AccountName</th>\n",
       "      <th>CreateDate</th>\n",
       "      <th>UpdateDate</th>\n",
       "      <th>rn</th>\n",
       "      <th>code</th>\n",
       "      <th>name</th>\n",
       "      <th>type_id</th>\n",
       "      <th>_merge</th>\n",
       "    </tr>\n",
       "  </thead>\n",
       "  <tbody>\n",
       "    <tr>\n",
       "      <th>0</th>\n",
       "      <td>305</td>\n",
       "      <td>11</td>\n",
       "      <td>Nemateriālie ieguldījumi</td>\n",
       "      <td>2021-05-11 12:52:25.493</td>\n",
       "      <td>2021-05-11 12:52:25.443</td>\n",
       "      <td>1</td>\n",
       "      <td>NaN</td>\n",
       "      <td>NaN</td>\n",
       "      <td>NaN</td>\n",
       "      <td>left_only</td>\n",
       "    </tr>\n",
       "    <tr>\n",
       "      <th>1</th>\n",
       "      <td>354</td>\n",
       "      <td>1110</td>\n",
       "      <td>Pētniecības un uzņēmuma attīstības izmaksas</td>\n",
       "      <td>2021-05-11 12:52:25.493</td>\n",
       "      <td>2021-05-11 12:52:25.443</td>\n",
       "      <td>50</td>\n",
       "      <td>NaN</td>\n",
       "      <td>NaN</td>\n",
       "      <td>NaN</td>\n",
       "      <td>left_only</td>\n",
       "    </tr>\n",
       "    <tr>\n",
       "      <th>2</th>\n",
       "      <td>355</td>\n",
       "      <td>1120</td>\n",
       "      <td>Koncesijas, patenti, licences, datoru progr.</td>\n",
       "      <td>2021-05-11 12:52:25.493</td>\n",
       "      <td>2021-05-11 12:52:25.443</td>\n",
       "      <td>51</td>\n",
       "      <td>NaN</td>\n",
       "      <td>NaN</td>\n",
       "      <td>NaN</td>\n",
       "      <td>left_only</td>\n",
       "    </tr>\n",
       "    <tr>\n",
       "      <th>3</th>\n",
       "      <td>356</td>\n",
       "      <td>1130</td>\n",
       "      <td>Uzņēmuma nemateriālā vērtība</td>\n",
       "      <td>2021-05-11 12:52:25.493</td>\n",
       "      <td>2021-05-11 12:52:25.443</td>\n",
       "      <td>52</td>\n",
       "      <td>NaN</td>\n",
       "      <td>NaN</td>\n",
       "      <td>NaN</td>\n",
       "      <td>left_only</td>\n",
       "    </tr>\n",
       "    <tr>\n",
       "      <th>4</th>\n",
       "      <td>357</td>\n",
       "      <td>1180</td>\n",
       "      <td>Avansa maksājumi par nemateriāliem aktīviem</td>\n",
       "      <td>2021-05-11 12:52:25.493</td>\n",
       "      <td>2021-05-11 12:52:25.443</td>\n",
       "      <td>53</td>\n",
       "      <td>NaN</td>\n",
       "      <td>NaN</td>\n",
       "      <td>NaN</td>\n",
       "      <td>left_only</td>\n",
       "    </tr>\n",
       "  </tbody>\n",
       "</table>\n",
       "</div>"
      ],
      "text/plain": [
       "   AccountID AccountCode                                   AccountName  \\\n",
       "0        305          11                      Nemateriālie ieguldījumi   \n",
       "1        354        1110   Pētniecības un uzņēmuma attīstības izmaksas   \n",
       "2        355        1120  Koncesijas, patenti, licences, datoru progr.   \n",
       "3        356        1130                  Uzņēmuma nemateriālā vērtība   \n",
       "4        357        1180   Avansa maksājumi par nemateriāliem aktīviem   \n",
       "\n",
       "               CreateDate              UpdateDate  rn code name type_id  \\\n",
       "0 2021-05-11 12:52:25.493 2021-05-11 12:52:25.443   1  NaN  NaN     NaN   \n",
       "1 2021-05-11 12:52:25.493 2021-05-11 12:52:25.443  50  NaN  NaN     NaN   \n",
       "2 2021-05-11 12:52:25.493 2021-05-11 12:52:25.443  51  NaN  NaN     NaN   \n",
       "3 2021-05-11 12:52:25.493 2021-05-11 12:52:25.443  52  NaN  NaN     NaN   \n",
       "4 2021-05-11 12:52:25.493 2021-05-11 12:52:25.443  53  NaN  NaN     NaN   \n",
       "\n",
       "      _merge  \n",
       "0  left_only  \n",
       "1  left_only  \n",
       "2  left_only  \n",
       "3  left_only  \n",
       "4  left_only  "
      ]
     },
     "execution_count": 94,
     "metadata": {},
     "output_type": "execute_result"
    }
   ],
   "source": [
    "df_merged.head()"
   ]
  },
  {
   "cell_type": "code",
   "execution_count": 95,
   "id": "b6d360e6-60cf-45f3-900d-dc3be57a65d0",
   "metadata": {},
   "outputs": [],
   "source": [
    "# Identify new records (present in source, not in target)\n",
    "df_new = df_merged[df_merged['_merge'] == 'left_only'][['AccountCode', 'AccountName']]"
   ]
  },
  {
   "cell_type": "code",
   "execution_count": 96,
   "id": "508f1e77-4d9a-45a1-a3e1-a2d683b3afba",
   "metadata": {},
   "outputs": [
    {
     "data": {
      "text/html": [
       "<div>\n",
       "<style scoped>\n",
       "    .dataframe tbody tr th:only-of-type {\n",
       "        vertical-align: middle;\n",
       "    }\n",
       "\n",
       "    .dataframe tbody tr th {\n",
       "        vertical-align: top;\n",
       "    }\n",
       "\n",
       "    .dataframe thead th {\n",
       "        text-align: right;\n",
       "    }\n",
       "</style>\n",
       "<table border=\"1\" class=\"dataframe\">\n",
       "  <thead>\n",
       "    <tr style=\"text-align: right;\">\n",
       "      <th></th>\n",
       "      <th>AccountCode</th>\n",
       "      <th>AccountName</th>\n",
       "    </tr>\n",
       "  </thead>\n",
       "  <tbody>\n",
       "    <tr>\n",
       "      <th>0</th>\n",
       "      <td>11</td>\n",
       "      <td>Nemateriālie ieguldījumi</td>\n",
       "    </tr>\n",
       "    <tr>\n",
       "      <th>1</th>\n",
       "      <td>1110</td>\n",
       "      <td>Pētniecības un uzņēmuma attīstības izmaksas</td>\n",
       "    </tr>\n",
       "    <tr>\n",
       "      <th>2</th>\n",
       "      <td>1120</td>\n",
       "      <td>Koncesijas, patenti, licences, datoru progr.</td>\n",
       "    </tr>\n",
       "    <tr>\n",
       "      <th>3</th>\n",
       "      <td>1130</td>\n",
       "      <td>Uzņēmuma nemateriālā vērtība</td>\n",
       "    </tr>\n",
       "    <tr>\n",
       "      <th>4</th>\n",
       "      <td>1180</td>\n",
       "      <td>Avansa maksājumi par nemateriāliem aktīviem</td>\n",
       "    </tr>\n",
       "  </tbody>\n",
       "</table>\n",
       "</div>"
      ],
      "text/plain": [
       "  AccountCode                                   AccountName\n",
       "0          11                      Nemateriālie ieguldījumi\n",
       "1        1110   Pētniecības un uzņēmuma attīstības izmaksas\n",
       "2        1120  Koncesijas, patenti, licences, datoru progr.\n",
       "3        1130                  Uzņēmuma nemateriālā vērtība\n",
       "4        1180   Avansa maksājumi par nemateriāliem aktīviem"
      ]
     },
     "execution_count": 96,
     "metadata": {},
     "output_type": "execute_result"
    }
   ],
   "source": [
    "df_new.head()"
   ]
  },
  {
   "cell_type": "code",
   "execution_count": 97,
   "id": "20b93668-8e06-4c70-9ce2-88ae031a5b82",
   "metadata": {},
   "outputs": [],
   "source": [
    "# Identify deleted records (present in target, not in source)\n",
    "df_deleted = df_merged[df_merged['_merge'] == 'right_only'][['code']]"
   ]
  },
  {
   "cell_type": "code",
   "execution_count": 98,
   "id": "6a76c419-04af-4eb8-877f-40004fc879a6",
   "metadata": {},
   "outputs": [
    {
     "data": {
      "text/html": [
       "<div>\n",
       "<style scoped>\n",
       "    .dataframe tbody tr th:only-of-type {\n",
       "        vertical-align: middle;\n",
       "    }\n",
       "\n",
       "    .dataframe tbody tr th {\n",
       "        vertical-align: top;\n",
       "    }\n",
       "\n",
       "    .dataframe thead th {\n",
       "        text-align: right;\n",
       "    }\n",
       "</style>\n",
       "<table border=\"1\" class=\"dataframe\">\n",
       "  <thead>\n",
       "    <tr style=\"text-align: right;\">\n",
       "      <th></th>\n",
       "      <th>code</th>\n",
       "    </tr>\n",
       "  </thead>\n",
       "  <tbody>\n",
       "  </tbody>\n",
       "</table>\n",
       "</div>"
      ],
      "text/plain": [
       "Empty DataFrame\n",
       "Columns: [code]\n",
       "Index: []"
      ]
     },
     "execution_count": 98,
     "metadata": {},
     "output_type": "execute_result"
    }
   ],
   "source": [
    "df_deleted.head()"
   ]
  },
  {
   "cell_type": "code",
   "execution_count": 99,
   "id": "bfd58a46-eeb0-40f5-858c-c90840b65dd7",
   "metadata": {},
   "outputs": [],
   "source": [
    "# Identify potential updates\n",
    "df_common = df_merged[df_merged['_merge'] == 'both']\n",
    "df_updates = df_common[\n",
    "    (df_common['AccountName'] != df_common['name'])\n",
    "][['AccountCode', 'AccountName']]"
   ]
  },
  {
   "cell_type": "code",
   "execution_count": 100,
   "id": "c8c78934-cad4-45cc-aaec-7ab5b7c703f0",
   "metadata": {},
   "outputs": [
    {
     "data": {
      "text/html": [
       "<div>\n",
       "<style scoped>\n",
       "    .dataframe tbody tr th:only-of-type {\n",
       "        vertical-align: middle;\n",
       "    }\n",
       "\n",
       "    .dataframe tbody tr th {\n",
       "        vertical-align: top;\n",
       "    }\n",
       "\n",
       "    .dataframe thead th {\n",
       "        text-align: right;\n",
       "    }\n",
       "</style>\n",
       "<table border=\"1\" class=\"dataframe\">\n",
       "  <thead>\n",
       "    <tr style=\"text-align: right;\">\n",
       "      <th></th>\n",
       "      <th>AccountCode</th>\n",
       "      <th>AccountName</th>\n",
       "    </tr>\n",
       "  </thead>\n",
       "  <tbody>\n",
       "  </tbody>\n",
       "</table>\n",
       "</div>"
      ],
      "text/plain": [
       "Empty DataFrame\n",
       "Columns: [AccountCode, AccountName]\n",
       "Index: []"
      ]
     },
     "execution_count": 100,
     "metadata": {},
     "output_type": "execute_result"
    }
   ],
   "source": [
    "df_updates.head()"
   ]
  },
  {
   "cell_type": "code",
   "execution_count": 101,
   "id": "7c700add-5b28-438f-8060-7f82f7b3ad4a",
   "metadata": {},
   "outputs": [],
   "source": [
    "with engine.begin() as conn:\n",
    "    # Delete records\n",
    "    for row in df_deleted.itertuples():\n",
    "        conn.execute(text(\"DELETE FROM B02_Accounts WHERE code = :code\"), {'code': row.code})\n",
    "        \n",
    "    # Insert new records\n",
    "    for row in df_new.itertuples():\n",
    "        conn.execute(text(\"\"\"\n",
    "            INSERT INTO B02_Accounts (code, name)\n",
    "            VALUES (:code, :name)\n",
    "        \"\"\"), {\n",
    "            'code': row.AccountCode,\n",
    "            'name': row.AccountName\n",
    "        })\n",
    "       \n",
    "    # Update changed records\n",
    "    for row in df_updates.itertuples():\n",
    "        conn.execute(text(\"\"\"\n",
    "            UPDATE B02_Accounts\n",
    "            SET name = :name\n",
    "            WHERE code = :code\n",
    "        \"\"\"), {\n",
    "            'code': row.AccountCode,\n",
    "            'name': row.AccountName\n",
    "        })\n",
    "    \n",
    "    # conn.commit()"
   ]
  },
  {
   "cell_type": "code",
   "execution_count": null,
   "id": "aeadc474-370a-454b-af20-6036e157d566",
   "metadata": {},
   "outputs": [],
   "source": []
  },
  {
   "cell_type": "code",
   "execution_count": null,
   "id": "62c32149-0427-4bd5-b624-50a21ecb4ac7",
   "metadata": {},
   "outputs": [],
   "source": []
  },
  {
   "cell_type": "code",
   "execution_count": null,
   "id": "6175f2a2-dd75-4c00-996f-69d484d8e038",
   "metadata": {},
   "outputs": [],
   "source": []
  },
  {
   "cell_type": "code",
   "execution_count": null,
   "id": "233c6fb1-a509-4654-a08e-a67ffb9c011b",
   "metadata": {},
   "outputs": [],
   "source": []
  }
 ],
 "metadata": {
  "kernelspec": {
   "display_name": "Python 3 (ipykernel)",
   "language": "python",
   "name": "python3"
  },
  "language_info": {
   "codemirror_mode": {
    "name": "ipython",
    "version": 3
   },
   "file_extension": ".py",
   "mimetype": "text/x-python",
   "name": "python",
   "nbconvert_exporter": "python",
   "pygments_lexer": "ipython3",
   "version": "3.9.13"
  }
 },
 "nbformat": 4,
 "nbformat_minor": 5
}
