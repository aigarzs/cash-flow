{
 "cells": [
  {
   "cell_type": "code",
   "execution_count": 16,
   "id": "85fcf5e8-7cd9-40e7-a1b3-15b54438f918",
   "metadata": {},
   "outputs": [],
   "source": [
    "import numpy as np\n",
    "import pandas as pd\n",
    "data = {\n",
    "    'Name': ['Alice', 'Bob', 'Charlie', 'David'],\n",
    "    'Age': [24, 27, 22, 32],\n",
    "    'City': ['New York', 'Los Angeles', 'Chicago', 'Houston'],\n",
    "    \"Customer\": [True, False, True, False]\n",
    "}\n",
    "df = pd.DataFrame(data)"
   ]
  },
  {
   "cell_type": "code",
   "execution_count": 17,
   "id": "dd200d56-c72a-4ae8-8eeb-d8af1a640125",
   "metadata": {},
   "outputs": [
    {
     "data": {
      "text/html": [
       "<div>\n",
       "<style scoped>\n",
       "    .dataframe tbody tr th:only-of-type {\n",
       "        vertical-align: middle;\n",
       "    }\n",
       "\n",
       "    .dataframe tbody tr th {\n",
       "        vertical-align: top;\n",
       "    }\n",
       "\n",
       "    .dataframe thead th {\n",
       "        text-align: right;\n",
       "    }\n",
       "</style>\n",
       "<table border=\"1\" class=\"dataframe\">\n",
       "  <thead>\n",
       "    <tr style=\"text-align: right;\">\n",
       "      <th></th>\n",
       "      <th>Name</th>\n",
       "      <th>Age</th>\n",
       "      <th>City</th>\n",
       "      <th>Customer</th>\n",
       "    </tr>\n",
       "  </thead>\n",
       "  <tbody>\n",
       "    <tr>\n",
       "      <th>0</th>\n",
       "      <td>Alice</td>\n",
       "      <td>24</td>\n",
       "      <td>New York</td>\n",
       "      <td>True</td>\n",
       "    </tr>\n",
       "    <tr>\n",
       "      <th>1</th>\n",
       "      <td>Bob</td>\n",
       "      <td>27</td>\n",
       "      <td>Los Angeles</td>\n",
       "      <td>False</td>\n",
       "    </tr>\n",
       "    <tr>\n",
       "      <th>2</th>\n",
       "      <td>Charlie</td>\n",
       "      <td>22</td>\n",
       "      <td>Chicago</td>\n",
       "      <td>True</td>\n",
       "    </tr>\n",
       "    <tr>\n",
       "      <th>3</th>\n",
       "      <td>David</td>\n",
       "      <td>32</td>\n",
       "      <td>Houston</td>\n",
       "      <td>False</td>\n",
       "    </tr>\n",
       "  </tbody>\n",
       "</table>\n",
       "</div>"
      ],
      "text/plain": [
       "      Name  Age         City  Customer\n",
       "0    Alice   24     New York      True\n",
       "1      Bob   27  Los Angeles     False\n",
       "2  Charlie   22      Chicago      True\n",
       "3    David   32      Houston     False"
      ]
     },
     "execution_count": 17,
     "metadata": {},
     "output_type": "execute_result"
    }
   ],
   "source": [
    "df"
   ]
  },
  {
   "cell_type": "code",
   "execution_count": null,
   "id": "412b0de4-58a4-4a82-84b1-018c9bb14c0b",
   "metadata": {},
   "outputs": [],
   "source": []
  },
  {
   "cell_type": "code",
   "execution_count": 18,
   "id": "dea78630-748f-41d2-84fb-73846b71ed2d",
   "metadata": {},
   "outputs": [],
   "source": [
    "# new = pd.DataFrame([[\"Aigars\", 48, \"Jelgava\", True],[\"Inese\", 41, \"Olaine\", False]])\n",
    "# new = pd.DataFrame([\"Aigars\", 48, \"Jelgava\", True])\n",
    "# new = pd.DataFrame([[\"Aigars\", 48, \"Jelgava\", True]])\n",
    "# new = pd.DataFrame({\"Name\": [\"Aigars\"], \"Age\": [48], \"City\": [\"Jelgava\"], \"Customer\": [True]})\n",
    "# new = pd.DataFrame([{\"Name\": \"Aigars\", \"Age\": 48, \"City\": \"Jelgava\", \"Customer\": True}])\n",
    "# new = pd.DataFrame({\"Name\": \"Aigars\", \"Age\": 48, \"City\": \"Jelgava\", \"Customer\": True}, index=[-1])\n",
    "new = pd.DataFrame([[None, None, None, None]], columns=[\"Name\", \"Age\", \"City\", \"Customer\"])"
   ]
  },
  {
   "cell_type": "code",
   "execution_count": 19,
   "id": "a69085c1-32c2-405c-9bd4-d94be95ba7b1",
   "metadata": {},
   "outputs": [
    {
     "data": {
      "text/html": [
       "<div>\n",
       "<style scoped>\n",
       "    .dataframe tbody tr th:only-of-type {\n",
       "        vertical-align: middle;\n",
       "    }\n",
       "\n",
       "    .dataframe tbody tr th {\n",
       "        vertical-align: top;\n",
       "    }\n",
       "\n",
       "    .dataframe thead th {\n",
       "        text-align: right;\n",
       "    }\n",
       "</style>\n",
       "<table border=\"1\" class=\"dataframe\">\n",
       "  <thead>\n",
       "    <tr style=\"text-align: right;\">\n",
       "      <th></th>\n",
       "      <th>Name</th>\n",
       "      <th>Age</th>\n",
       "      <th>City</th>\n",
       "      <th>Customer</th>\n",
       "    </tr>\n",
       "  </thead>\n",
       "  <tbody>\n",
       "    <tr>\n",
       "      <th>0</th>\n",
       "      <td>None</td>\n",
       "      <td>None</td>\n",
       "      <td>None</td>\n",
       "      <td>None</td>\n",
       "    </tr>\n",
       "  </tbody>\n",
       "</table>\n",
       "</div>"
      ],
      "text/plain": [
       "   Name   Age  City Customer\n",
       "0  None  None  None     None"
      ]
     },
     "execution_count": 19,
     "metadata": {},
     "output_type": "execute_result"
    }
   ],
   "source": [
    "new"
   ]
  },
  {
   "cell_type": "code",
   "execution_count": 20,
   "id": "a087dfff-f288-4c80-a990-5ba352389709",
   "metadata": {},
   "outputs": [],
   "source": [
    "df = pd.concat([df[:2], new, df[2:]])"
   ]
  },
  {
   "cell_type": "code",
   "execution_count": 21,
   "id": "6fc9f87e-0533-4f4a-8fca-af74fa4be882",
   "metadata": {},
   "outputs": [
    {
     "data": {
      "text/html": [
       "<div>\n",
       "<style scoped>\n",
       "    .dataframe tbody tr th:only-of-type {\n",
       "        vertical-align: middle;\n",
       "    }\n",
       "\n",
       "    .dataframe tbody tr th {\n",
       "        vertical-align: top;\n",
       "    }\n",
       "\n",
       "    .dataframe thead th {\n",
       "        text-align: right;\n",
       "    }\n",
       "</style>\n",
       "<table border=\"1\" class=\"dataframe\">\n",
       "  <thead>\n",
       "    <tr style=\"text-align: right;\">\n",
       "      <th></th>\n",
       "      <th>Name</th>\n",
       "      <th>Age</th>\n",
       "      <th>City</th>\n",
       "      <th>Customer</th>\n",
       "    </tr>\n",
       "  </thead>\n",
       "  <tbody>\n",
       "    <tr>\n",
       "      <th>0</th>\n",
       "      <td>Alice</td>\n",
       "      <td>24</td>\n",
       "      <td>New York</td>\n",
       "      <td>True</td>\n",
       "    </tr>\n",
       "    <tr>\n",
       "      <th>1</th>\n",
       "      <td>Bob</td>\n",
       "      <td>27</td>\n",
       "      <td>Los Angeles</td>\n",
       "      <td>False</td>\n",
       "    </tr>\n",
       "    <tr>\n",
       "      <th>0</th>\n",
       "      <td>None</td>\n",
       "      <td>None</td>\n",
       "      <td>None</td>\n",
       "      <td>None</td>\n",
       "    </tr>\n",
       "    <tr>\n",
       "      <th>2</th>\n",
       "      <td>Charlie</td>\n",
       "      <td>22</td>\n",
       "      <td>Chicago</td>\n",
       "      <td>True</td>\n",
       "    </tr>\n",
       "    <tr>\n",
       "      <th>3</th>\n",
       "      <td>David</td>\n",
       "      <td>32</td>\n",
       "      <td>Houston</td>\n",
       "      <td>False</td>\n",
       "    </tr>\n",
       "  </tbody>\n",
       "</table>\n",
       "</div>"
      ],
      "text/plain": [
       "      Name   Age         City Customer\n",
       "0    Alice    24     New York     True\n",
       "1      Bob    27  Los Angeles    False\n",
       "0     None  None         None     None\n",
       "2  Charlie    22      Chicago     True\n",
       "3    David    32      Houston    False"
      ]
     },
     "execution_count": 21,
     "metadata": {},
     "output_type": "execute_result"
    }
   ],
   "source": [
    "df"
   ]
  },
  {
   "cell_type": "code",
   "execution_count": 22,
   "id": "ba4e4864-8089-4b50-9817-a9a0681dd76b",
   "metadata": {},
   "outputs": [
    {
     "name": "stdout",
     "output_type": "stream",
     "text": [
      "<class 'pandas.core.frame.DataFrame'>\n",
      "Index: 5 entries, 0 to 3\n",
      "Data columns (total 4 columns):\n",
      " #   Column    Non-Null Count  Dtype \n",
      "---  ------    --------------  ----- \n",
      " 0   Name      4 non-null      object\n",
      " 1   Age       4 non-null      object\n",
      " 2   City      4 non-null      object\n",
      " 3   Customer  4 non-null      object\n",
      "dtypes: object(4)\n",
      "memory usage: 200.0+ bytes\n"
     ]
    }
   ],
   "source": [
    "df.info()"
   ]
  },
  {
   "cell_type": "code",
   "execution_count": 9,
   "id": "3117fd3d-aa82-4fd6-abbb-9073431afc8d",
   "metadata": {},
   "outputs": [
    {
     "name": "stdout",
     "output_type": "stream",
     "text": [
      "<class 'datetime.timedelta'> 2 days, 0:00:00\n"
     ]
    }
   ],
   "source": [
    "import pandas as pd\n",
    "import numpy as np\n",
    "\n",
    "def convert_pandas_to_python(value):\n",
    "    \"\"\"Convert a Pandas or NumPy value to a native Python type.\"\"\"\n",
    "    if isinstance(value, np.generic):  # Convert NumPy scalar types\n",
    "        return value.item()\n",
    "    elif isinstance(value, pd.Timestamp):  # Convert Pandas Timestamp to Python datetime\n",
    "        return value.to_pydatetime() if not pd.isna(value) else None\n",
    "    elif isinstance(value, pd.Timedelta):  # Convert Pandas Timedelta to Python timedelta\n",
    "        return value.to_pytimedelta()\n",
    "    elif pd.isna(value):  # Handles NaN, None, pd.NA, pd.NaT\n",
    "        return None\n",
    "    return value  # Return as-is for other Python-native types\n",
    "\n",
    "# Example usage:\n",
    "df = pd.DataFrame({\n",
    "    'int': [np.int64(1), np.int32(2), 3],\n",
    "    'float': [np.float64(1.1), np.float32(2.2), 3.3],\n",
    "    'bool': [np.bool_(True), False, True],\n",
    "    'date': [pd.Timestamp(\"2023-01-01\"), pd.Timestamp(\"2024-02-01\"), pd.NaT],\n",
    "    'timedelta': [pd.Timedelta(days=1), pd.Timedelta(days=2), pd.NaT],\n",
    "    'string': ['text', pd.NA, None]\n",
    "})\n",
    "\n",
    "# Example: Convert a single cell\n",
    "value = df.iloc[1, 4]  # Some Pandas float64\n",
    "python_value = convert_pandas_to_python(value)\n",
    "print(type(python_value), python_value)  # Should be <class 'float'> 3.3"
   ]
  },
  {
   "cell_type": "code",
   "execution_count": 10,
   "id": "d3837f69-07d1-4c54-ab01-c52881e73986",
   "metadata": {},
   "outputs": [
    {
     "data": {
      "text/html": [
       "<div>\n",
       "<style scoped>\n",
       "    .dataframe tbody tr th:only-of-type {\n",
       "        vertical-align: middle;\n",
       "    }\n",
       "\n",
       "    .dataframe tbody tr th {\n",
       "        vertical-align: top;\n",
       "    }\n",
       "\n",
       "    .dataframe thead th {\n",
       "        text-align: right;\n",
       "    }\n",
       "</style>\n",
       "<table border=\"1\" class=\"dataframe\">\n",
       "  <thead>\n",
       "    <tr style=\"text-align: right;\">\n",
       "      <th></th>\n",
       "      <th>int</th>\n",
       "      <th>float</th>\n",
       "      <th>bool</th>\n",
       "      <th>date</th>\n",
       "      <th>timedelta</th>\n",
       "      <th>string</th>\n",
       "    </tr>\n",
       "  </thead>\n",
       "  <tbody>\n",
       "    <tr>\n",
       "      <th>0</th>\n",
       "      <td>1</td>\n",
       "      <td>1.1</td>\n",
       "      <td>True</td>\n",
       "      <td>2023-01-01</td>\n",
       "      <td>1 days</td>\n",
       "      <td>text</td>\n",
       "    </tr>\n",
       "    <tr>\n",
       "      <th>1</th>\n",
       "      <td>2</td>\n",
       "      <td>2.2</td>\n",
       "      <td>False</td>\n",
       "      <td>2024-02-01</td>\n",
       "      <td>2 days</td>\n",
       "      <td>&lt;NA&gt;</td>\n",
       "    </tr>\n",
       "    <tr>\n",
       "      <th>2</th>\n",
       "      <td>3</td>\n",
       "      <td>3.3</td>\n",
       "      <td>True</td>\n",
       "      <td>NaT</td>\n",
       "      <td>NaT</td>\n",
       "      <td>None</td>\n",
       "    </tr>\n",
       "  </tbody>\n",
       "</table>\n",
       "</div>"
      ],
      "text/plain": [
       "   int  float   bool       date timedelta string\n",
       "0    1    1.1   True 2023-01-01    1 days   text\n",
       "1    2    2.2  False 2024-02-01    2 days   <NA>\n",
       "2    3    3.3   True        NaT       NaT   None"
      ]
     },
     "execution_count": 10,
     "metadata": {},
     "output_type": "execute_result"
    }
   ],
   "source": [
    "df"
   ]
  },
  {
   "cell_type": "code",
   "execution_count": 11,
   "id": "2ac1c2f2-5dfd-4a2e-b93e-1e362ab667c7",
   "metadata": {},
   "outputs": [
    {
     "data": {
      "text/html": [
       "<div>\n",
       "<style scoped>\n",
       "    .dataframe tbody tr th:only-of-type {\n",
       "        vertical-align: middle;\n",
       "    }\n",
       "\n",
       "    .dataframe tbody tr th {\n",
       "        vertical-align: top;\n",
       "    }\n",
       "\n",
       "    .dataframe thead th {\n",
       "        text-align: right;\n",
       "    }\n",
       "</style>\n",
       "<table border=\"1\" class=\"dataframe\">\n",
       "  <thead>\n",
       "    <tr style=\"text-align: right;\">\n",
       "      <th></th>\n",
       "      <th>int</th>\n",
       "      <th>float</th>\n",
       "      <th>bool</th>\n",
       "      <th>date</th>\n",
       "      <th>timedelta</th>\n",
       "      <th>string</th>\n",
       "    </tr>\n",
       "  </thead>\n",
       "  <tbody>\n",
       "    <tr>\n",
       "      <th>1</th>\n",
       "      <td>2</td>\n",
       "      <td>2.2</td>\n",
       "      <td>False</td>\n",
       "      <td>2024-02-01</td>\n",
       "      <td>2 days</td>\n",
       "      <td>&lt;NA&gt;</td>\n",
       "    </tr>\n",
       "  </tbody>\n",
       "</table>\n",
       "</div>"
      ],
      "text/plain": [
       "   int  float   bool       date timedelta string\n",
       "1    2    2.2  False 2024-02-01    2 days   <NA>"
      ]
     },
     "execution_count": 11,
     "metadata": {},
     "output_type": "execute_result"
    }
   ],
   "source": [
    "df[1:2]"
   ]
  },
  {
   "cell_type": "code",
   "execution_count": null,
   "id": "8eb48d0d-9ab3-46ea-90e0-9f49d3fb81c1",
   "metadata": {},
   "outputs": [],
   "source": []
  }
 ],
 "metadata": {
  "kernelspec": {
   "display_name": "Python 3 (ipykernel)",
   "language": "python",
   "name": "python3"
  },
  "language_info": {
   "codemirror_mode": {
    "name": "ipython",
    "version": 3
   },
   "file_extension": ".py",
   "mimetype": "text/x-python",
   "name": "python",
   "nbconvert_exporter": "python",
   "pygments_lexer": "ipython3",
   "version": "3.9.20"
  }
 },
 "nbformat": 4,
 "nbformat_minor": 5
}
