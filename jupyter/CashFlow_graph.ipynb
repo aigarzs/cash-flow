{
 "cells": [
  {
   "cell_type": "code",
   "execution_count": 67,
   "id": "4a220967-33d2-4cfd-91bc-16fb3f575544",
   "metadata": {},
   "outputs": [],
   "source": [
    "import pandas as pd\n",
    "import matplotlib.pyplot as plt\n"
   ]
  },
  {
   "cell_type": "code",
   "execution_count": 68,
   "id": "d4cb3eec-e5c2-4210-84e3-5618016d1b6b",
   "metadata": {},
   "outputs": [],
   "source": [
    "# Sample data\n",
    "accounts = ['Sales', 'Marketing', 'Ops']\n",
    "dates = pd.date_range('2025-01-31', periods=4, freq='ME')\n",
    "\"\"\"\n",
    "data = {\n",
    "    account: [1000 * (i + 1) * (-1 if i % 2 else 1) for i in range(len(dates))]\n",
    "    for account in accounts\n",
    "}\n",
    "\"\"\"\n",
    "data = {\"Sales\": [100, 200, 300, 400], \"Marketing\": [100, -200, 300, -400], \"Ops\": [150, 250, -350, 450]}\n",
    "final_df = pd.DataFrame(data, index=dates).T"
   ]
  },
  {
   "cell_type": "code",
   "execution_count": 69,
   "id": "c878b955-3124-46fb-b43e-e193fb7bc19b",
   "metadata": {},
   "outputs": [
    {
     "data": {
      "text/html": [
       "<div>\n",
       "<style scoped>\n",
       "    .dataframe tbody tr th:only-of-type {\n",
       "        vertical-align: middle;\n",
       "    }\n",
       "\n",
       "    .dataframe tbody tr th {\n",
       "        vertical-align: top;\n",
       "    }\n",
       "\n",
       "    .dataframe thead th {\n",
       "        text-align: right;\n",
       "    }\n",
       "</style>\n",
       "<table border=\"1\" class=\"dataframe\">\n",
       "  <thead>\n",
       "    <tr style=\"text-align: right;\">\n",
       "      <th></th>\n",
       "      <th>2025-01-31</th>\n",
       "      <th>2025-02-28</th>\n",
       "      <th>2025-03-31</th>\n",
       "      <th>2025-04-30</th>\n",
       "    </tr>\n",
       "  </thead>\n",
       "  <tbody>\n",
       "    <tr>\n",
       "      <th>Sales</th>\n",
       "      <td>100</td>\n",
       "      <td>200</td>\n",
       "      <td>300</td>\n",
       "      <td>400</td>\n",
       "    </tr>\n",
       "    <tr>\n",
       "      <th>Marketing</th>\n",
       "      <td>100</td>\n",
       "      <td>-200</td>\n",
       "      <td>300</td>\n",
       "      <td>-400</td>\n",
       "    </tr>\n",
       "    <tr>\n",
       "      <th>Ops</th>\n",
       "      <td>150</td>\n",
       "      <td>250</td>\n",
       "      <td>-350</td>\n",
       "      <td>450</td>\n",
       "    </tr>\n",
       "  </tbody>\n",
       "</table>\n",
       "</div>"
      ],
      "text/plain": [
       "           2025-01-31  2025-02-28  2025-03-31  2025-04-30\n",
       "Sales             100         200         300         400\n",
       "Marketing         100        -200         300        -400\n",
       "Ops               150         250        -350         450"
      ]
     },
     "execution_count": 69,
     "metadata": {},
     "output_type": "execute_result"
    }
   ],
   "source": [
    "final_df"
   ]
  },
  {
   "cell_type": "code",
   "execution_count": 70,
   "id": "4c940d28-2916-4c4d-90c9-47c71caa579f",
   "metadata": {},
   "outputs": [],
   "source": [
    "# Prepare plot\n",
    "periods = final_df.columns\n",
    "x = range(len(periods))\n"
   ]
  },
  {
   "cell_type": "code",
   "execution_count": 71,
   "id": "627739ac-d8bb-4cf1-8271-35683a5242c0",
   "metadata": {},
   "outputs": [
    {
     "data": {
      "image/png": "[encoded data removed]",
      "text/plain": [
       "<Figure size 1200x600 with 1 Axes>"
      ]
     },
     "metadata": {},
     "output_type": "display_data"
    }
   ],
   "source": [
    "fig, ax = plt.subplots(figsize=(12, 6))"
   ]
  },
  {
   "cell_type": "code",
   "execution_count": 72,
   "id": "aecf312b-5c8a-467a-8479-8ddb6265370e",
   "metadata": {},
   "outputs": [],
   "source": [
    "# Separate positive and negative stacking\n",
    "pos_bottom = [0] * len(periods)\n",
    "neg_bottom = [0] * len(periods)\n",
    "colors = plt.cm.tab20.colors\n"
   ]
  },
  {
   "cell_type": "code",
   "execution_count": 73,
   "id": "d6cf6637-f2ea-46d2-a5da-908be98f491a",
   "metadata": {},
   "outputs": [],
   "source": [
    "for i, account in enumerate(final_df.index):\n",
    "    values = final_df.loc[account].values\n",
    "    pos_vals = [v if v > 0 else 0 for v in values]\n",
    "    neg_vals = [v if v < 0 else 0 for v in values]\n",
    "\n",
    "    ax.bar(x, pos_vals, bottom=pos_bottom, label=account if any(pos_vals) else \"\", color=colors[i % len(colors)])\n",
    "    ax.bar(x, neg_vals, bottom=neg_bottom, label=account if any(neg_vals) else \"\", color=colors[i % len(colors)])\n",
    "\n",
    "    # Update stacking baselines\n",
    "    pos_bottom = [pb + v for pb, v in zip(pos_bottom, pos_vals)]\n",
    "    neg_bottom = [nb + v for nb, v in zip(neg_bottom, neg_vals)]\n"
   ]
  },
  {
   "cell_type": "code",
   "execution_count": 74,
   "id": "71990090-7b4b-4e6e-b0be-ac2ddf67a96e",
   "metadata": {},
   "outputs": [
    {
     "data": {
      "text/plain": [
       "[Text(0, 0, '2025-01-31'),\n",
       " Text(1, 0, '2025-02-28'),\n",
       " Text(2, 0, '2025-03-31'),\n",
       " Text(3, 0, '2025-04-30')]"
      ]
     },
     "execution_count": 74,
     "metadata": {},
     "output_type": "execute_result"
    }
   ],
   "source": [
    "# X axis\n",
    "ax.set_xticks(x)\n",
    "ax.set_xticklabels([p.strftime('%Y-%m-%d') for p in periods], rotation=45, ha='right')\n"
   ]
  },
  {
   "cell_type": "code",
   "execution_count": 75,
   "id": "8bd4168c-5381-44d1-861a-333b7b5f92bd",
   "metadata": {},
   "outputs": [],
   "source": [
    "# Labels and legend\n",
    "ax.set_ylabel(\"Amount\")\n",
    "ax.set_title(\"Cash Flow by Account and Period\")\n",
    "ax.legend()\n",
    "ax.grid(True)"
   ]
  },
  {
   "cell_type": "code",
   "execution_count": 76,
   "id": "eac65d7a-489c-464e-8baf-335e76193227",
   "metadata": {},
   "outputs": [
    {
     "data": {
      "text/plain": [
       "<Figure size 640x480 with 0 Axes>"
      ]
     },
     "metadata": {},
     "output_type": "display_data"
    }
   ],
   "source": [
    "plt.tight_layout()\n",
    "plt.show()"
   ]
  },
  {
   "cell_type": "code",
   "execution_count": 77,
   "id": "5bb1ce34-6ba3-4764-bbab-468ab1e476d6",
   "metadata": {},
   "outputs": [
    {
     "data": {
      "text/html": [
       "<div>\n",
       "<style scoped>\n",
       "    .dataframe tbody tr th:only-of-type {\n",
       "        vertical-align: middle;\n",
       "    }\n",
       "\n",
       "    .dataframe tbody tr th {\n",
       "        vertical-align: top;\n",
       "    }\n",
       "\n",
       "    .dataframe thead th {\n",
       "        text-align: right;\n",
       "    }\n",
       "</style>\n",
       "<table border=\"1\" class=\"dataframe\">\n",
       "  <thead>\n",
       "    <tr style=\"text-align: right;\">\n",
       "      <th></th>\n",
       "      <th>2025-01-31</th>\n",
       "      <th>2025-02-28</th>\n",
       "      <th>2025-03-31</th>\n",
       "      <th>2025-04-30</th>\n",
       "    </tr>\n",
       "  </thead>\n",
       "  <tbody>\n",
       "    <tr>\n",
       "      <th>Sales</th>\n",
       "      <td>100</td>\n",
       "      <td>200</td>\n",
       "      <td>300</td>\n",
       "      <td>400</td>\n",
       "    </tr>\n",
       "    <tr>\n",
       "      <th>Marketing</th>\n",
       "      <td>100</td>\n",
       "      <td>-200</td>\n",
       "      <td>300</td>\n",
       "      <td>-400</td>\n",
       "    </tr>\n",
       "    <tr>\n",
       "      <th>Ops</th>\n",
       "      <td>150</td>\n",
       "      <td>250</td>\n",
       "      <td>-350</td>\n",
       "      <td>450</td>\n",
       "    </tr>\n",
       "  </tbody>\n",
       "</table>\n",
       "</div>"
      ],
      "text/plain": [
       "           2025-01-31  2025-02-28  2025-03-31  2025-04-30\n",
       "Sales             100         200         300         400\n",
       "Marketing         100        -200         300        -400\n",
       "Ops               150         250        -350         450"
      ]
     },
     "execution_count": 77,
     "metadata": {},
     "output_type": "execute_result"
    }
   ],
   "source": [
    "final_df"
   ]
  },
  {
   "cell_type": "code",
   "execution_count": 78,
   "id": "fe6fa30d-eb50-4446-a48f-c9a310999b1d",
   "metadata": {},
   "outputs": [
    {
     "data": {
      "image/png": "[encoded data removed]",
      "text/plain": [
       "<Figure size 1200x600 with 1 Axes>"
      ]
     },
     "execution_count": 78,
     "metadata": {},
     "output_type": "execute_result"
    }
   ],
   "source": [
    "fig"
   ]
  },
  {
   "cell_type": "code",
   "execution_count": null,
   "id": "576c9953-8f5a-4e9a-83d4-434e279fabf0",
   "metadata": {},
   "outputs": [],
   "source": []
  },
  {
   "cell_type": "code",
   "execution_count": null,
   "id": "b0e58048-3d61-480a-867f-e293396bf400",
   "metadata": {},
   "outputs": [],
   "source": []
  }
 ],
 "metadata": {
  "kernelspec": {
   "display_name": "Python 3 (ipykernel)",
   "language": "python",
   "name": "python3"
  },
  "language_info": {
   "codemirror_mode": {
    "name": "ipython",
    "version": 3
   },
   "file_extension": ".py",
   "mimetype": "text/x-python",
   "name": "python",
   "nbconvert_exporter": "python",
   "pygments_lexer": "ipython3",
   "version": "3.9.20"
  }
 },
 "nbformat": 4,
 "nbformat_minor": 5
}
